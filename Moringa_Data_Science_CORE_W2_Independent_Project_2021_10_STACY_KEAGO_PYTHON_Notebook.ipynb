{
  "nbformat": 4,
  "nbformat_minor": 0,
  "metadata": {
    "colab": {
      "name": "Moringa_Data_Science_CORE_W2_Independent_Project_2021_10_STACY_KEAGO_PYTHON_Notebook",
      "provenance": [],
      "toc_visible": true,
      "include_colab_link": true
    },
    "kernelspec": {
      "name": "python3",
      "display_name": "Python 3"
    },
    "language_info": {
      "name": "python"
    }
  },
  "cells": [
    {
      "cell_type": "markdown",
      "metadata": {
        "id": "view-in-github",
        "colab_type": "text"
      },
      "source": [
        "<a href=\"https://colab.research.google.com/github/stacykeago/Employment-Data/blob/main/Moringa_Data_Science_CORE_W2_Independent_Project_2021_10_STACY_KEAGO_PYTHON_Notebook.ipynb\" target=\"_parent\"><img src=\"https://colab.research.google.com/assets/colab-badge.svg\" alt=\"Open In Colab\"/></a>"
      ]
    },
    {
      "cell_type": "markdown",
      "metadata": {
        "id": "iAioa7YfuqXc"
      },
      "source": [
        "# 1.0 INTRODUCTION"
      ]
    },
    {
      "cell_type": "markdown",
      "metadata": {
        "id": "c74X8qP1v3hx"
      },
      "source": [
        "Financial Inclusion remains one of the main obstacles to economic and human development in Africa. For example, across Kenya, Rwanda, Tanzania, and Uganda only 9.1 million adults (or 13.9% of the adult population) have access to or use a commercial bank account.\n",
        "\n",
        "Traditionally, access to bank accounts has been regarded as an indicator of financial inclusion. Despite the proliferation of mobile money in Africa and the growth of innovative fintech solutions, banks still play a pivotal role in facilitating access to financial services. Access to bank accounts enables households to save and facilitate payments while also helping businesses build up their credit-worthiness and improve their access to other financial services. Therefore, access to bank accounts is an essential contributor to long-term economic growth.\n",
        "\n",
        "The research problem is to figure out how we can predict which individuals are most likely to have or use a bank account. Your solution will help provide an indication of the state of financial inclusion in Kenya, Rwanda, Tanzania, and Uganda, while providing insights into some of the key demographic factors that might drive individuals’ financial outcomes.\n",
        "\n",
        "In order to work on the above problem, you need to do the following:\n",
        "\n",
        "Define the question, the metric for success, the context, experimental design taken and the appropriateness of the available data to answer the given question\n",
        "Find and deal with outliers, anomalies, and missing data within the dataset.\n",
        "Perform univariate, bivariate and multivariate analysis recording your observations.\n",
        "Implement the solution by performing the respective analysis i.e. factor analysis, principal component analysis, and discriminant analysis.\n",
        "Challenge your solution by providing insights on how you can make improvements.\n",
        "NB: Remember to go through the rubric [Link] to get an understanding of how you will be graded. \n",
        "\n",
        "Dataset\n",
        "\n",
        "The main dataset contains demographic information and what financial services are used by individuals across East Africa. This data was extracted from various Finscope surveys ranging from 2016 to 2018, and more information about these surveys can be found here:\n",
        "\n",
        "FinAccess Kenya 2018. [Link] (Links to an external site.)\n",
        "Finscope Rwanda 2016. [Link] (Links to an external site.)\n",
        "Finscope Tanzania 2017. [Link] (Links to an external site.)\n",
        "Finscope Uganda 2018. [Link] (Links to an external site.)\n",
        "Dataset Files:\n",
        "\n",
        "Variable Definitions: http://bit.ly/VariableDefinitions (Links to an external site.) \n",
        "Dataset: http://bit.ly/FinancialDataset (Links to an external site.) "
      ]
    },
    {
      "cell_type": "markdown",
      "metadata": {
        "id": "BiVMxVL1FtZr"
      },
      "source": [
        "## 1.1 Define the question\n"
      ]
    },
    {
      "cell_type": "markdown",
      "metadata": {
        "id": "GIgazLAeKZqT"
      },
      "source": [
        "MAIN OBJECTIVE: \n",
        "How mobile money transactions can lead to greater financial inclusion for people who don't have access to banks.Greater financial inclusion leads to greater access to credit services, easier tax base to achieve revenues, better access to savings and fintech services."
      ]
    },
    {
      "cell_type": "code",
      "metadata": {
        "id": "oAslfgm-KW-K"
      },
      "source": [],
      "execution_count": null,
      "outputs": []
    },
    {
      "cell_type": "markdown",
      "metadata": {
        "id": "KZtAjIRtF7L6"
      },
      "source": [
        "## 1.2 Define the metric for success"
      ]
    },
    {
      "cell_type": "markdown",
      "metadata": {
        "id": "MEOcJzCzondi"
      },
      "source": [
        "Speific Objectives:\n",
        "To determine the number of people who have access to mobile phones and don't have access to the banks\n",
        "\n",
        "-To determine the percentage of level of access to mobile phones for people in the region.\n",
        "\n",
        "-To determine the percentage of level of access to mobile phones for people in urban areas and rural areas\n",
        "\n",
        "-To determine the percentage of level of access to mobile phones for people in the region per country .\n",
        "\n",
        "-To determine the number of people with access to bank accounts and how this varies in urban and rural areas, variance between the formally employed and the self employed.\n",
        "\n",
        "-To determine the country with the most mobile phones and the highest number of bank accounts.\n",
        "\n",
        "-To determine the influence of mobile phone access to and location to job type.\n",
        "\n",
        "-To determine the people to be targeted with mobile banking integration. \n",
        "\n",
        "-To determine the job type to be targeted with fintech marketing in the region for people with a phone but no bank account\n",
        "\n",
        " -To determine which age has the most access to mobile phones Age with mobile phone but no bank account, highestAge with mobile phone and bank account."
      ]
    },
    {
      "cell_type": "markdown",
      "metadata": {
        "id": "SsOuKhViGEcF"
      },
      "source": [
        "## 1.3  Define the context"
      ]
    },
    {
      "cell_type": "markdown",
      "metadata": {
        "id": "fZN9CwNrGFv9"
      },
      "source": [
        "## 1.4 Define the experimental design taken "
      ]
    },
    {
      "cell_type": "markdown",
      "metadata": {
        "id": "jKwdt6EuKoqZ"
      },
      "source": [
        "The following will be used to answer the research question.\n",
        "This analysis is in the form of answering the objectives:\n",
        "\n",
        "-To determine the number of people who have access to mobile phones and don't have access to the banks\n",
        "\n",
        "-To determine the percentage of level of access to mobile phones for people in the region.\n",
        "\n",
        "-To determine the percentage of level of access to mobile phones for people in urban areas and rural areas\n",
        "\n",
        "-To determine the percentage of level of access to mobile phones for people in the region per country .\n",
        "\n",
        "-To determine the number of people with access to bank accounts and how this varies in urban and rural areas, variance between the formally employed and the self employed.\n",
        "\n",
        "-To determine the country with the most mobile phones and the highest number of bank accounts.\n",
        "\n",
        "-To determine the influence of mobile phone access to and location to job type.\n",
        "\n",
        "To determine the people to be targeted with mobile banking integration.\n",
        "To determine the job type to be targeted with fintech marketing in the region for people with a phone but no bank account\n",
        "-To determine which age has the most access to mobile phones Age with mobile phone but no bank account, highestAge with mobile phone and bank account."
      ]
    },
    {
      "cell_type": "markdown",
      "metadata": {
        "id": "rCe9RzmiGe-I"
      },
      "source": [
        "## 1.5 Define the appropriateness of the available data to answer the given question"
      ]
    },
    {
      "cell_type": "markdown",
      "metadata": {
        "id": "1pCmzpGkwHVL"
      },
      "source": [
        "# 2.0 Import the libraries."
      ]
    },
    {
      "cell_type": "code",
      "metadata": {
        "id": "52Gwayndo7bC"
      },
      "source": [
        "#import the libraries.\n",
        "import pandas as pd\n",
        "import numpy as np\n",
        "import matplotlib.pyplot as plt\n",
        "import seaborn as sns"
      ],
      "execution_count": null,
      "outputs": []
    },
    {
      "cell_type": "markdown",
      "metadata": {
        "id": "dbVBTFeRwVhx"
      },
      "source": [
        "# 3.0 Upload the datasets"
      ]
    },
    {
      "cell_type": "code",
      "metadata": {
        "id": "B42TwYSjHDCS"
      },
      "source": [
        "# Upload the datasets -This data was extracted from various Finscope surveys \n",
        "#ranging from 2016 to 2018, and more information \n",
        "#about these surveys can be found here:\n",
        "#1.FinAccess Kenya 2018. https://fsdkenya.org/publication/finaccess2019/\n",
        "#2.Finscope Rwanda 2016. http://www.statistics.gov.rw/publication/finscope-rwanda-2016\n",
        "#3.Finscope Tanzania 2017. http://www.fsdt.or.tz/finscope/\n",
        "#4.Finscope Uganda 2018. http://fsduganda.or.ug/finscope-2018-survey-report/\n",
        "#Dataset Files: \n",
        "\n",
        "#1.Variable Definitions: http://bit.ly/VariableDefinitions  \n",
        "#2.Dataset: http://bit.ly/FinancialDataset\n",
        "\n",
        "finance_df = pd.read_csv('http://bit.ly/FinancialDataset')\n",
        "\n"
      ],
      "execution_count": null,
      "outputs": []
    },
    {
      "cell_type": "code",
      "metadata": {
        "id": "ypjl23Y9tqGD"
      },
      "source": [
        "#loading the definitions dataset\n",
        "definitions_df= pd.read_csv('http://bit.ly/VariableDefinitions')"
      ],
      "execution_count": null,
      "outputs": []
    },
    {
      "cell_type": "markdown",
      "metadata": {
        "id": "riX4HL_nwfjq"
      },
      "source": [
        "# 4.0 Preview the data"
      ]
    },
    {
      "cell_type": "code",
      "metadata": {
        "colab": {
          "base_uri": "https://localhost:8080/",
          "height": 381
        },
        "id": "et3Iwf3nzjJw",
        "outputId": "734ba465-b2a3-4154-a55c-8838dcb05d16"
      },
      "source": [
        "#preview the datasets\n",
        "finance_df.head(5)"
      ],
      "execution_count": null,
      "outputs": [
        {
          "output_type": "execute_result",
          "data": {
            "text/html": [
              "<div>\n",
              "<style scoped>\n",
              "    .dataframe tbody tr th:only-of-type {\n",
              "        vertical-align: middle;\n",
              "    }\n",
              "\n",
              "    .dataframe tbody tr th {\n",
              "        vertical-align: top;\n",
              "    }\n",
              "\n",
              "    .dataframe thead th {\n",
              "        text-align: right;\n",
              "    }\n",
              "</style>\n",
              "<table border=\"1\" class=\"dataframe\">\n",
              "  <thead>\n",
              "    <tr style=\"text-align: right;\">\n",
              "      <th></th>\n",
              "      <th>country</th>\n",
              "      <th>year</th>\n",
              "      <th>uniqueid</th>\n",
              "      <th>Has a Bank account</th>\n",
              "      <th>Type of Location</th>\n",
              "      <th>Cell Phone Access</th>\n",
              "      <th>household_size</th>\n",
              "      <th>Respondent Age</th>\n",
              "      <th>gender_of_respondent</th>\n",
              "      <th>The relathip with head</th>\n",
              "      <th>marital_status</th>\n",
              "      <th>Level of Educuation</th>\n",
              "      <th>Type of Job</th>\n",
              "    </tr>\n",
              "  </thead>\n",
              "  <tbody>\n",
              "    <tr>\n",
              "      <th>0</th>\n",
              "      <td>Kenya</td>\n",
              "      <td>2018</td>\n",
              "      <td>uniqueid_1</td>\n",
              "      <td>Yes</td>\n",
              "      <td>Rural</td>\n",
              "      <td>Yes</td>\n",
              "      <td>3.0</td>\n",
              "      <td>24.0</td>\n",
              "      <td>Female</td>\n",
              "      <td>Spouse</td>\n",
              "      <td>Married/Living together</td>\n",
              "      <td>Secondary education</td>\n",
              "      <td>Self employed</td>\n",
              "    </tr>\n",
              "    <tr>\n",
              "      <th>1</th>\n",
              "      <td>Kenya</td>\n",
              "      <td>2018</td>\n",
              "      <td>uniqueid_2</td>\n",
              "      <td>No</td>\n",
              "      <td>Rural</td>\n",
              "      <td>No</td>\n",
              "      <td>5.0</td>\n",
              "      <td>70.0</td>\n",
              "      <td>Female</td>\n",
              "      <td>Head of Household</td>\n",
              "      <td>Widowed</td>\n",
              "      <td>No formal education</td>\n",
              "      <td>Government Dependent</td>\n",
              "    </tr>\n",
              "    <tr>\n",
              "      <th>2</th>\n",
              "      <td>Kenya</td>\n",
              "      <td>2018</td>\n",
              "      <td>uniqueid_3</td>\n",
              "      <td>Yes</td>\n",
              "      <td>Urban</td>\n",
              "      <td>Yes</td>\n",
              "      <td>5.0</td>\n",
              "      <td>26.0</td>\n",
              "      <td>Male</td>\n",
              "      <td>Other relative</td>\n",
              "      <td>Single/Never Married</td>\n",
              "      <td>Vocational/Specialised training</td>\n",
              "      <td>Self employed</td>\n",
              "    </tr>\n",
              "    <tr>\n",
              "      <th>3</th>\n",
              "      <td>Kenya</td>\n",
              "      <td>2018</td>\n",
              "      <td>uniqueid_4</td>\n",
              "      <td>No</td>\n",
              "      <td>Rural</td>\n",
              "      <td>Yes</td>\n",
              "      <td>5.0</td>\n",
              "      <td>34.0</td>\n",
              "      <td>Female</td>\n",
              "      <td>Head of Household</td>\n",
              "      <td>Married/Living together</td>\n",
              "      <td>Primary education</td>\n",
              "      <td>Formally employed Private</td>\n",
              "    </tr>\n",
              "    <tr>\n",
              "      <th>4</th>\n",
              "      <td>Kenya</td>\n",
              "      <td>2018</td>\n",
              "      <td>uniqueid_5</td>\n",
              "      <td>No</td>\n",
              "      <td>Urban</td>\n",
              "      <td>No</td>\n",
              "      <td>8.0</td>\n",
              "      <td>26.0</td>\n",
              "      <td>Male</td>\n",
              "      <td>Child</td>\n",
              "      <td>Single/Never Married</td>\n",
              "      <td>Primary education</td>\n",
              "      <td>Informally employed</td>\n",
              "    </tr>\n",
              "  </tbody>\n",
              "</table>\n",
              "</div>"
            ],
            "text/plain": [
              "  country  year  ...              Level of Educuation                Type of Job\n",
              "0   Kenya  2018  ...              Secondary education              Self employed\n",
              "1   Kenya  2018  ...              No formal education       Government Dependent\n",
              "2   Kenya  2018  ...  Vocational/Specialised training              Self employed\n",
              "3   Kenya  2018  ...                Primary education  Formally employed Private\n",
              "4   Kenya  2018  ...                Primary education        Informally employed\n",
              "\n",
              "[5 rows x 13 columns]"
            ]
          },
          "metadata": {},
          "execution_count": 89
        }
      ]
    },
    {
      "cell_type": "code",
      "metadata": {
        "colab": {
          "base_uri": "https://localhost:8080/",
          "height": 205
        },
        "id": "KzV3jiFw0U3M",
        "outputId": "91566fbf-b75b-43fd-8112-480fa07b309b"
      },
      "source": [
        "#preview the definitions\n",
        "definitions_df.head()"
      ],
      "execution_count": null,
      "outputs": [
        {
          "output_type": "execute_result",
          "data": {
            "text/html": [
              "<div>\n",
              "<style scoped>\n",
              "    .dataframe tbody tr th:only-of-type {\n",
              "        vertical-align: middle;\n",
              "    }\n",
              "\n",
              "    .dataframe tbody tr th {\n",
              "        vertical-align: top;\n",
              "    }\n",
              "\n",
              "    .dataframe thead th {\n",
              "        text-align: right;\n",
              "    }\n",
              "</style>\n",
              "<table border=\"1\" class=\"dataframe\">\n",
              "  <thead>\n",
              "    <tr style=\"text-align: right;\">\n",
              "      <th></th>\n",
              "      <th>Variable Definitions</th>\n",
              "      <th>Unnamed: 1</th>\n",
              "    </tr>\n",
              "  </thead>\n",
              "  <tbody>\n",
              "    <tr>\n",
              "      <th>0</th>\n",
              "      <td>country</td>\n",
              "      <td>Country interviewee is in.</td>\n",
              "    </tr>\n",
              "    <tr>\n",
              "      <th>1</th>\n",
              "      <td>year</td>\n",
              "      <td>Year survey was done in.</td>\n",
              "    </tr>\n",
              "    <tr>\n",
              "      <th>2</th>\n",
              "      <td>uniqueid</td>\n",
              "      <td>Unique identifier for each interviewee</td>\n",
              "    </tr>\n",
              "    <tr>\n",
              "      <th>3</th>\n",
              "      <td>location_type</td>\n",
              "      <td>Type of location: Rural, Urban</td>\n",
              "    </tr>\n",
              "    <tr>\n",
              "      <th>4</th>\n",
              "      <td>cellphone_access</td>\n",
              "      <td>If interviewee has access to a cellphone: Yes, No</td>\n",
              "    </tr>\n",
              "  </tbody>\n",
              "</table>\n",
              "</div>"
            ],
            "text/plain": [
              "  Variable Definitions                                         Unnamed: 1\n",
              "0              country                         Country interviewee is in.\n",
              "1                 year                           Year survey was done in.\n",
              "2             uniqueid             Unique identifier for each interviewee\n",
              "3        location_type                     Type of location: Rural, Urban\n",
              "4     cellphone_access  If interviewee has access to a cellphone: Yes, No"
            ]
          },
          "metadata": {},
          "execution_count": 90
        }
      ]
    },
    {
      "cell_type": "markdown",
      "metadata": {
        "id": "Us3UEWlkwpLv"
      },
      "source": [
        "# 5.0 Accesing dataset information."
      ]
    },
    {
      "cell_type": "code",
      "metadata": {
        "colab": {
          "base_uri": "https://localhost:8080/"
        },
        "id": "yRa_vF2LIrz1",
        "outputId": "5e68168e-ebdc-46e0-fbe8-dbc64be347b5"
      },
      "source": [
        "print(finance_df.columns)\n",
        "print(finance_df.shape)\n",
        "print(finance_df.isnull().sum())"
      ],
      "execution_count": null,
      "outputs": [
        {
          "output_type": "stream",
          "name": "stdout",
          "text": [
            "Index(['country', 'year', 'uniqueid', 'Has a Bank account', 'Type of Location',\n",
            "       'Cell Phone Access', 'household_size', 'Respondent Age',\n",
            "       'gender_of_respondent', 'The relathip with head', 'marital_status',\n",
            "       'Level of Educuation', 'Type of Job'],\n",
            "      dtype='object')\n",
            "(23524, 13)\n",
            "country                   14\n",
            "year                       0\n",
            "uniqueid                   0\n",
            "Has a Bank account        36\n",
            "Type of Location          15\n",
            "Cell Phone Access         11\n",
            "household_size            28\n",
            "Respondent Age            34\n",
            "gender_of_respondent      34\n",
            "The relathip with head     4\n",
            "marital_status            32\n",
            "Level of Educuation       29\n",
            "Type of Job               30\n",
            "dtype: int64\n"
          ]
        }
      ]
    },
    {
      "cell_type": "markdown",
      "metadata": {
        "id": "HRuof1Zmw2DN"
      },
      "source": [
        "# 6.0 Data cleaning."
      ]
    },
    {
      "cell_type": "markdown",
      "metadata": {
        "id": "kRcPGV-XPI_F"
      },
      "source": [
        "Exploratory data analysis: \n",
        "1. defining the question\n",
        "2. the metric for success\n",
        "3. the context\n",
        "4. experimental design taken\n",
        "5. the appropriateness of the available data to answer the given question.\n",
        "6. find and deal with: outliers, anomalies, and missing data within the dataset. \n",
        "7. Providing insights on how they can make improvements."
      ]
    },
    {
      "cell_type": "markdown",
      "metadata": {
        "id": "4crClLKBxKJC"
      },
      "source": [
        "## 6.1 Drop the Unique id"
      ]
    },
    {
      "cell_type": "code",
      "metadata": {
        "colab": {
          "base_uri": "https://localhost:8080/",
          "height": 641
        },
        "id": "LIrJW4HYJtPq",
        "outputId": "1bac04ae-5155-4fd5-fbed-d0ea5efa572f"
      },
      "source": [
        "#Dropping the Unique id column \n",
        "\n",
        "finance_df.drop('uniqueid', axis=1,inplace=True)\n",
        "finance_df.head(10)"
      ],
      "execution_count": null,
      "outputs": [
        {
          "output_type": "execute_result",
          "data": {
            "text/html": [
              "<div>\n",
              "<style scoped>\n",
              "    .dataframe tbody tr th:only-of-type {\n",
              "        vertical-align: middle;\n",
              "    }\n",
              "\n",
              "    .dataframe tbody tr th {\n",
              "        vertical-align: top;\n",
              "    }\n",
              "\n",
              "    .dataframe thead th {\n",
              "        text-align: right;\n",
              "    }\n",
              "</style>\n",
              "<table border=\"1\" class=\"dataframe\">\n",
              "  <thead>\n",
              "    <tr style=\"text-align: right;\">\n",
              "      <th></th>\n",
              "      <th>country</th>\n",
              "      <th>year</th>\n",
              "      <th>Has a Bank account</th>\n",
              "      <th>Type of Location</th>\n",
              "      <th>Cell Phone Access</th>\n",
              "      <th>household_size</th>\n",
              "      <th>Respondent Age</th>\n",
              "      <th>gender_of_respondent</th>\n",
              "      <th>The relathip with head</th>\n",
              "      <th>marital_status</th>\n",
              "      <th>Level of Educuation</th>\n",
              "      <th>Type of Job</th>\n",
              "    </tr>\n",
              "  </thead>\n",
              "  <tbody>\n",
              "    <tr>\n",
              "      <th>0</th>\n",
              "      <td>Kenya</td>\n",
              "      <td>2018</td>\n",
              "      <td>Yes</td>\n",
              "      <td>Rural</td>\n",
              "      <td>Yes</td>\n",
              "      <td>3.0</td>\n",
              "      <td>24.0</td>\n",
              "      <td>Female</td>\n",
              "      <td>Spouse</td>\n",
              "      <td>Married/Living together</td>\n",
              "      <td>Secondary education</td>\n",
              "      <td>Self employed</td>\n",
              "    </tr>\n",
              "    <tr>\n",
              "      <th>1</th>\n",
              "      <td>Kenya</td>\n",
              "      <td>2018</td>\n",
              "      <td>No</td>\n",
              "      <td>Rural</td>\n",
              "      <td>No</td>\n",
              "      <td>5.0</td>\n",
              "      <td>70.0</td>\n",
              "      <td>Female</td>\n",
              "      <td>Head of Household</td>\n",
              "      <td>Widowed</td>\n",
              "      <td>No formal education</td>\n",
              "      <td>Government Dependent</td>\n",
              "    </tr>\n",
              "    <tr>\n",
              "      <th>2</th>\n",
              "      <td>Kenya</td>\n",
              "      <td>2018</td>\n",
              "      <td>Yes</td>\n",
              "      <td>Urban</td>\n",
              "      <td>Yes</td>\n",
              "      <td>5.0</td>\n",
              "      <td>26.0</td>\n",
              "      <td>Male</td>\n",
              "      <td>Other relative</td>\n",
              "      <td>Single/Never Married</td>\n",
              "      <td>Vocational/Specialised training</td>\n",
              "      <td>Self employed</td>\n",
              "    </tr>\n",
              "    <tr>\n",
              "      <th>3</th>\n",
              "      <td>Kenya</td>\n",
              "      <td>2018</td>\n",
              "      <td>No</td>\n",
              "      <td>Rural</td>\n",
              "      <td>Yes</td>\n",
              "      <td>5.0</td>\n",
              "      <td>34.0</td>\n",
              "      <td>Female</td>\n",
              "      <td>Head of Household</td>\n",
              "      <td>Married/Living together</td>\n",
              "      <td>Primary education</td>\n",
              "      <td>Formally employed Private</td>\n",
              "    </tr>\n",
              "    <tr>\n",
              "      <th>4</th>\n",
              "      <td>Kenya</td>\n",
              "      <td>2018</td>\n",
              "      <td>No</td>\n",
              "      <td>Urban</td>\n",
              "      <td>No</td>\n",
              "      <td>8.0</td>\n",
              "      <td>26.0</td>\n",
              "      <td>Male</td>\n",
              "      <td>Child</td>\n",
              "      <td>Single/Never Married</td>\n",
              "      <td>Primary education</td>\n",
              "      <td>Informally employed</td>\n",
              "    </tr>\n",
              "    <tr>\n",
              "      <th>5</th>\n",
              "      <td>Kenya</td>\n",
              "      <td>2018</td>\n",
              "      <td>No</td>\n",
              "      <td>Rural</td>\n",
              "      <td>No</td>\n",
              "      <td>7.0</td>\n",
              "      <td>26.0</td>\n",
              "      <td>Female</td>\n",
              "      <td>Spouse</td>\n",
              "      <td>Married/Living together</td>\n",
              "      <td>Primary education</td>\n",
              "      <td>Informally employed</td>\n",
              "    </tr>\n",
              "    <tr>\n",
              "      <th>6</th>\n",
              "      <td>Kenya</td>\n",
              "      <td>2018</td>\n",
              "      <td>No</td>\n",
              "      <td>Rural</td>\n",
              "      <td>Yes</td>\n",
              "      <td>7.0</td>\n",
              "      <td>32.0</td>\n",
              "      <td>Female</td>\n",
              "      <td>Spouse</td>\n",
              "      <td>Married/Living together</td>\n",
              "      <td>Primary education</td>\n",
              "      <td>Self employed</td>\n",
              "    </tr>\n",
              "    <tr>\n",
              "      <th>7</th>\n",
              "      <td>Kenya</td>\n",
              "      <td>2018</td>\n",
              "      <td>No</td>\n",
              "      <td>Rural</td>\n",
              "      <td>Yes</td>\n",
              "      <td>1.0</td>\n",
              "      <td>42.0</td>\n",
              "      <td>Female</td>\n",
              "      <td>Head of Household</td>\n",
              "      <td>Married/Living together</td>\n",
              "      <td>Tertiary education</td>\n",
              "      <td>Formally employed Government</td>\n",
              "    </tr>\n",
              "    <tr>\n",
              "      <th>8</th>\n",
              "      <td>Kenya</td>\n",
              "      <td>2018</td>\n",
              "      <td>Yes</td>\n",
              "      <td>Rural</td>\n",
              "      <td>Yes</td>\n",
              "      <td>3.0</td>\n",
              "      <td>54.0</td>\n",
              "      <td>Male</td>\n",
              "      <td>Head of Household</td>\n",
              "      <td>Married/Living together</td>\n",
              "      <td>Secondary education</td>\n",
              "      <td>Farming and Fishing</td>\n",
              "    </tr>\n",
              "    <tr>\n",
              "      <th>9</th>\n",
              "      <td>Kenya</td>\n",
              "      <td>2018</td>\n",
              "      <td>No</td>\n",
              "      <td>Urban</td>\n",
              "      <td>Yes</td>\n",
              "      <td>3.0</td>\n",
              "      <td>76.0</td>\n",
              "      <td>Female</td>\n",
              "      <td>Head of Household</td>\n",
              "      <td>Divorced/Seperated</td>\n",
              "      <td>No formal education</td>\n",
              "      <td>Remittance Dependent</td>\n",
              "    </tr>\n",
              "  </tbody>\n",
              "</table>\n",
              "</div>"
            ],
            "text/plain": [
              "  country  year  ...              Level of Educuation                   Type of Job\n",
              "0   Kenya  2018  ...              Secondary education                 Self employed\n",
              "1   Kenya  2018  ...              No formal education          Government Dependent\n",
              "2   Kenya  2018  ...  Vocational/Specialised training                 Self employed\n",
              "3   Kenya  2018  ...                Primary education     Formally employed Private\n",
              "4   Kenya  2018  ...                Primary education           Informally employed\n",
              "5   Kenya  2018  ...                Primary education           Informally employed\n",
              "6   Kenya  2018  ...                Primary education                 Self employed\n",
              "7   Kenya  2018  ...               Tertiary education  Formally employed Government\n",
              "8   Kenya  2018  ...              Secondary education           Farming and Fishing\n",
              "9   Kenya  2018  ...              No formal education          Remittance Dependent\n",
              "\n",
              "[10 rows x 12 columns]"
            ]
          },
          "metadata": {},
          "execution_count": 104
        }
      ]
    },
    {
      "cell_type": "markdown",
      "metadata": {
        "id": "rThbtxqjxlOw"
      },
      "source": [
        "## 6.2 Check for null/missing values"
      ]
    },
    {
      "cell_type": "code",
      "metadata": {
        "colab": {
          "base_uri": "https://localhost:8080/"
        },
        "id": "5w7Wn7zCJz2M",
        "outputId": "6633f75f-0fbc-4785-a6f2-195032e48b4c"
      },
      "source": [
        "#Checking for null values\n",
        "finance_df.isnull().sum()"
      ],
      "execution_count": null,
      "outputs": [
        {
          "output_type": "execute_result",
          "data": {
            "text/plain": [
              "country                   14\n",
              "year                       0\n",
              "Has a Bank account        36\n",
              "Type of Location          15\n",
              "Cell Phone Access         11\n",
              "household_size            28\n",
              "Respondent Age            34\n",
              "gender_of_respondent      34\n",
              "The relathip with head     4\n",
              "marital_status            32\n",
              "Level of Educuation       29\n",
              "Type of Job               30\n",
              "dtype: int64"
            ]
          },
          "metadata": {},
          "execution_count": 105
        }
      ]
    },
    {
      "cell_type": "markdown",
      "metadata": {
        "id": "rirUrFtT7mw0"
      },
      "source": [
        "### 6.2.1 Replace and drop Null values"
      ]
    },
    {
      "cell_type": "code",
      "metadata": {
        "id": "WwLp34G42roQ"
      },
      "source": [
        "finance_df['household_size'] = finance_df['household_size'].replace('-', np.nan)\n",
        "finance_df = finance_df.dropna(axis=0, subset=['household_size'])"
      ],
      "execution_count": null,
      "outputs": []
    },
    {
      "cell_type": "code",
      "metadata": {
        "id": "gSCb5y157akx"
      },
      "source": [
        "finance_df['marital_status'] = finance_df['marital_status'].replace('-', np.nan)\n",
        "finance_df = finance_df.dropna(axis=0, subset=['marital_status'])"
      ],
      "execution_count": null,
      "outputs": []
    },
    {
      "cell_type": "code",
      "metadata": {
        "id": "LCbGXWnF62WM"
      },
      "source": [
        "finance_df['Type of Location'] = finance_df['Type of Location'].replace('-', np.nan)\n",
        "finance_df = finance_df.dropna(axis=0, subset=['Type of Location'])"
      ],
      "execution_count": null,
      "outputs": []
    },
    {
      "cell_type": "code",
      "metadata": {
        "id": "77qI0-SF6oOH"
      },
      "source": [
        "finance_df['country'] = finance_df['country'].replace('-', np.nan)\n",
        "finance_df = finance_df.dropna(axis=0, subset=['country'])"
      ],
      "execution_count": null,
      "outputs": []
    },
    {
      "cell_type": "code",
      "metadata": {
        "id": "FkokTFkv6Sy-"
      },
      "source": [
        "finance_df['Has a Bank account'] = finance_df['Has a Bank account'].replace('-', np.nan)\n",
        "finance_df = finance_df.dropna(axis=0, subset=['Has a Bank account'])"
      ],
      "execution_count": null,
      "outputs": []
    },
    {
      "cell_type": "code",
      "metadata": {
        "id": "y5COXUiI54Xq"
      },
      "source": [
        "finance_df['Cell Phone Access'] = finance_df['Cell Phone Access'].replace('-', np.nan)\n",
        "finance_df = finance_df.dropna(axis=0, subset=['Cell Phone Access'])"
      ],
      "execution_count": null,
      "outputs": []
    },
    {
      "cell_type": "code",
      "metadata": {
        "id": "dOLNfkBN5hPI"
      },
      "source": [
        "finance_df['gender_of_respondent'] = finance_df['gender_of_respondent'].replace('-', np.nan)\n",
        "finance_df = finance_df.dropna(axis=0, subset=['gender_of_respondent'])"
      ],
      "execution_count": null,
      "outputs": []
    },
    {
      "cell_type": "code",
      "metadata": {
        "id": "rUUSKW3j5Td3"
      },
      "source": [
        "finance_df['The relathip with head'] = finance_df['The relathip with head'].replace('-', np.nan)\n",
        "finance_df = finance_df.dropna(axis=0, subset=['The relathip with head'])"
      ],
      "execution_count": null,
      "outputs": []
    },
    {
      "cell_type": "code",
      "metadata": {
        "id": "add72Mja3_hP"
      },
      "source": [
        "finance_df['Type of Job'] = finance_df['Type of Job'].replace('-', np.nan)\n",
        "finance_df = finance_df.dropna(axis=0, subset=['Type of Job'])"
      ],
      "execution_count": null,
      "outputs": []
    },
    {
      "cell_type": "code",
      "metadata": {
        "id": "eg2lhlH84Rer"
      },
      "source": [
        "finance_df['Level of Educuation'] = finance_df['Level of Educuation'].replace('-', np.nan)\n",
        "finance_df = finance_df.dropna(axis=0, subset=['Level of Educuation'])"
      ],
      "execution_count": null,
      "outputs": []
    },
    {
      "cell_type": "code",
      "metadata": {
        "id": "OnY3Ph_w4jJO"
      },
      "source": [
        "finance_df['Respondent Age'] = finance_df['Respondent Age'].replace('-', np.nan)\n",
        "finance_df = finance_df.dropna(axis=0, subset=['Respondent Age'])"
      ],
      "execution_count": null,
      "outputs": []
    },
    {
      "cell_type": "code",
      "metadata": {
        "colab": {
          "base_uri": "https://localhost:8080/"
        },
        "id": "D2j4_dbC3b9B",
        "outputId": "5d655dcb-34e8-40e8-db0e-dddcd31e6fcf"
      },
      "source": [
        "finance_df.dropna"
      ],
      "execution_count": null,
      "outputs": [
        {
          "output_type": "execute_result",
          "data": {
            "text/plain": [
              "<bound method DataFrame.dropna of       country  year  ...              Level of Educuation                Type of Job\n",
              "0       Kenya  2018  ...              Secondary education              Self employed\n",
              "1       Kenya  2018  ...              No formal education       Government Dependent\n",
              "2       Kenya  2018  ...  Vocational/Specialised training              Self employed\n",
              "3       Kenya  2018  ...                Primary education  Formally employed Private\n",
              "4       Kenya  2018  ...                Primary education        Informally employed\n",
              "...       ...   ...  ...                              ...                        ...\n",
              "23519  Uganda  2018  ...              No formal education               Other Income\n",
              "23520  Uganda  2018  ...              Secondary education               Other Income\n",
              "23521  Uganda  2018  ...                Primary education               Other Income\n",
              "23522  Uganda  2018  ...              Secondary education              Self employed\n",
              "23523  Uganda  2018  ...              Secondary education                  No Income\n",
              "\n",
              "[23362 rows x 13 columns]>"
            ]
          },
          "metadata": {},
          "execution_count": 132
        }
      ]
    },
    {
      "cell_type": "code",
      "metadata": {
        "colab": {
          "base_uri": "https://localhost:8080/"
        },
        "id": "TYoB-y5Z4_OZ",
        "outputId": "9ac564a5-c237-4c7c-f3c5-54d1cca47992"
      },
      "source": [
        "finance_df.isnull().sum()"
      ],
      "execution_count": null,
      "outputs": [
        {
          "output_type": "execute_result",
          "data": {
            "text/plain": [
              "country                   0\n",
              "year                      0\n",
              "uniqueid                  0\n",
              "Has a Bank account        0\n",
              "Type of Location          0\n",
              "Cell Phone Access         0\n",
              "household_size            0\n",
              "Respondent Age            0\n",
              "gender_of_respondent      0\n",
              "The relathip with head    0\n",
              "marital_status            0\n",
              "Level of Educuation       0\n",
              "Type of Job               0\n",
              "dtype: int64"
            ]
          },
          "metadata": {},
          "execution_count": 135
        }
      ]
    },
    {
      "cell_type": "markdown",
      "metadata": {
        "id": "F-0SWRVKx-bi"
      },
      "source": [
        "## 6.3 Check and align column datatypes"
      ]
    },
    {
      "cell_type": "code",
      "metadata": {
        "colab": {
          "base_uri": "https://localhost:8080/"
        },
        "id": "AIauq1Q-J68Q",
        "outputId": "3b7e2112-99a4-41c6-c402-6aa93e13cb83"
      },
      "source": [
        "#Checking column datatypes\n",
        "finance_df.dtypes"
      ],
      "execution_count": null,
      "outputs": [
        {
          "output_type": "execute_result",
          "data": {
            "text/plain": [
              "country                    object\n",
              "year                        int64\n",
              "uniqueid                   object\n",
              "Has a Bank account         object\n",
              "Type of Location           object\n",
              "Cell Phone Access          object\n",
              "household_size            float64\n",
              "Respondent Age            float64\n",
              "gender_of_respondent       object\n",
              "The relathip with head     object\n",
              "marital_status             object\n",
              "Level of Educuation        object\n",
              "Type of Job                object\n",
              "dtype: object"
            ]
          },
          "metadata": {},
          "execution_count": 136
        }
      ]
    },
    {
      "cell_type": "markdown",
      "metadata": {
        "id": "CPu1Q06Iyzr9"
      },
      "source": [
        "## 6.4 Check for outliers"
      ]
    },
    {
      "cell_type": "code",
      "metadata": {
        "colab": {
          "base_uri": "https://localhost:8080/",
          "height": 283
        },
        "id": "6oGeBU_pVlOY",
        "outputId": "05fc4752-ceab-4241-b307-156e9a77c7af"
      },
      "source": [
        "# Check for outliers\n",
        "finance_df.boxplot(column =['Respondent Age'], grid = False)"
      ],
      "execution_count": null,
      "outputs": [
        {
          "output_type": "execute_result",
          "data": {
            "text/plain": [
              "<matplotlib.axes._subplots.AxesSubplot at 0x7fc28b09f910>"
            ]
          },
          "metadata": {},
          "execution_count": 161
        },
        {
          "output_type": "display_data",
          "data": {
            "image/png": "[encoded data removed]",
            "text/plain": [
              "<Figure size 432x288 with 1 Axes>"
            ]
          },
          "metadata": {
            "needs_background": "light"
          }
        }
      ]
    },
    {
      "cell_type": "markdown",
      "metadata": {
        "id": "t_63oVgd6toe"
      },
      "source": [
        "## 6.5 Check for anomalies"
      ]
    },
    {
      "cell_type": "code",
      "metadata": {
        "id": "52YHa3AVJZNF"
      },
      "source": [],
      "execution_count": null,
      "outputs": []
    },
    {
      "cell_type": "markdown",
      "metadata": {
        "id": "QY1T4EQXJcOZ"
      },
      "source": [
        "## 6.6 Check for duplicates\n"
      ]
    },
    {
      "cell_type": "code",
      "metadata": {
        "colab": {
          "base_uri": "https://localhost:8080/"
        },
        "id": "2YFKitPEY045",
        "outputId": "83f9142f-34c0-4c43-f5fc-a16f5d50ae42"
      },
      "source": [
        "#Checking for duplicates values\n",
        "finance_df.duplicated().sum()"
      ],
      "execution_count": null,
      "outputs": [
        {
          "output_type": "execute_result",
          "data": {
            "text/plain": [
              "0"
            ]
          },
          "metadata": {},
          "execution_count": 162
        }
      ]
    },
    {
      "cell_type": "markdown",
      "metadata": {
        "id": "JKYDvVuC5oe-"
      },
      "source": [
        "# 7.0 Analysis "
      ]
    },
    {
      "cell_type": "markdown",
      "metadata": {
        "id": "_LcW4wV35wSc"
      },
      "source": [
        "## 7.1 Univariate Anaysis"
      ]
    },
    {
      "cell_type": "code",
      "metadata": {
        "id": "afquJ_haMWKi"
      },
      "source": [
        "1. Mode\n",
        "2. Median\n",
        "3. mean\n",
        "4. interquartile range\n",
        "5. the standard deviation\n",
        "6. variance\n",
        "7. skewness\n",
        "8. kurtosis \n",
        "9. histogram\n",
        "10. bar chart\n",
        "11. box plot\n",
        "12. frequency table\n",
        "13. recommendations"
      ],
      "execution_count": null,
      "outputs": []
    },
    {
      "cell_type": "markdown",
      "metadata": {
        "id": "vUBmKpnrA_C8"
      },
      "source": [
        "### Mean"
      ]
    },
    {
      "cell_type": "code",
      "metadata": {
        "colab": {
          "base_uri": "https://localhost:8080/"
        },
        "id": "D6Lon3-uBTWl",
        "outputId": "4036951d-358c-4782-872a-4b73e079075f"
      },
      "source": [
        "# MEAN age\n",
        "finance_df['Respondent Age'].mean()"
      ],
      "execution_count": null,
      "outputs": [
        {
          "output_type": "execute_result",
          "data": {
            "text/plain": [
              "38.80550914621085"
            ]
          },
          "metadata": {},
          "execution_count": 152
        }
      ]
    },
    {
      "cell_type": "code",
      "metadata": {
        "colab": {
          "base_uri": "https://localhost:8080/"
        },
        "id": "bswJSmV9BjZN",
        "outputId": "6ccc26b0-38ba-44e8-cf52-29ab4d76f8da"
      },
      "source": [
        "#MEAN HOUSEHOLD SIZE\n",
        "finance_df['household_size'].mean()"
      ],
      "execution_count": null,
      "outputs": [
        {
          "output_type": "execute_result",
          "data": {
            "text/plain": [
              "3.6886432763569377"
            ]
          },
          "metadata": {},
          "execution_count": 153
        }
      ]
    },
    {
      "cell_type": "markdown",
      "metadata": {
        "id": "29k3bz01BAW6"
      },
      "source": [
        "### Mode"
      ]
    },
    {
      "cell_type": "code",
      "metadata": {
        "colab": {
          "base_uri": "https://localhost:8080/"
        },
        "id": "uXK-AMYpBKZc",
        "outputId": "73180c3a-c489-4d97-df7c-e1a12143958b"
      },
      "source": [
        "#MODE age\n",
        "finance_df['Respondent Age'].mode()"
      ],
      "execution_count": null,
      "outputs": [
        {
          "output_type": "execute_result",
          "data": {
            "text/plain": [
              "0    30.0\n",
              "dtype: float64"
            ]
          },
          "metadata": {},
          "execution_count": 154
        }
      ]
    },
    {
      "cell_type": "code",
      "metadata": {
        "colab": {
          "base_uri": "https://localhost:8080/"
        },
        "id": "6UjTyToOCMZu",
        "outputId": "b9688086-7b0b-483c-8981-b2decd22b218"
      },
      "source": [
        "finance_df['household_size'].mode()"
      ],
      "execution_count": null,
      "outputs": [
        {
          "output_type": "execute_result",
          "data": {
            "text/plain": [
              "0    2.0\n",
              "dtype: float64"
            ]
          },
          "metadata": {},
          "execution_count": 155
        }
      ]
    },
    {
      "cell_type": "markdown",
      "metadata": {
        "id": "fZAh6IowBNnc"
      },
      "source": [
        "### median"
      ]
    },
    {
      "cell_type": "code",
      "metadata": {
        "colab": {
          "base_uri": "https://localhost:8080/"
        },
        "id": "haM-aXe0CfEF",
        "outputId": "cc343554-a0f7-4b70-d393-70be2d39bd2e"
      },
      "source": [
        "finance_df['Respondent Age'].median()"
      ],
      "execution_count": null,
      "outputs": [
        {
          "output_type": "execute_result",
          "data": {
            "text/plain": [
              "35.0"
            ]
          },
          "metadata": {},
          "execution_count": 157
        }
      ]
    },
    {
      "cell_type": "code",
      "metadata": {
        "colab": {
          "base_uri": "https://localhost:8080/"
        },
        "id": "IB_pApKfCiIz",
        "outputId": "cee513d5-780d-47c7-f7da-181af56607f1"
      },
      "source": [
        "finance_df['household_size'].median()"
      ],
      "execution_count": null,
      "outputs": [
        {
          "output_type": "execute_result",
          "data": {
            "text/plain": [
              "3.0"
            ]
          },
          "metadata": {},
          "execution_count": 158
        }
      ]
    },
    {
      "cell_type": "markdown",
      "metadata": {
        "id": "u2XkOps1DCtj"
      },
      "source": [
        "### kurtosis"
      ]
    },
    {
      "cell_type": "code",
      "metadata": {
        "colab": {
          "base_uri": "https://localhost:8080/"
        },
        "id": "XjU6C6rRDKLJ",
        "outputId": "99fdcd8b-69ad-4d84-8b17-02c57fc76837"
      },
      "source": [
        "finance_df['Respondent Age'].kurt()"
      ],
      "execution_count": null,
      "outputs": [
        {
          "output_type": "execute_result",
          "data": {
            "text/plain": [
              "0.09844652254807196"
            ]
          },
          "metadata": {},
          "execution_count": 159
        }
      ]
    },
    {
      "cell_type": "code",
      "metadata": {
        "colab": {
          "base_uri": "https://localhost:8080/"
        },
        "id": "xVOwVPSNDVYE",
        "outputId": "3c0d32fb-5e02-477c-97e4-f4324a569dc0"
      },
      "source": [
        "finance_df['household_size'].kurt()"
      ],
      "execution_count": null,
      "outputs": [
        {
          "output_type": "execute_result",
          "data": {
            "text/plain": [
              "1.1538690689335573"
            ]
          },
          "metadata": {},
          "execution_count": 160
        }
      ]
    },
    {
      "cell_type": "markdown",
      "metadata": {
        "id": "GSAMn2ne-tw3"
      },
      "source": [
        "### Standard variation"
      ]
    },
    {
      "cell_type": "code",
      "metadata": {
        "colab": {
          "base_uri": "https://localhost:8080/"
        },
        "id": "QeVWNs8pcLBY",
        "outputId": "b58a0dfe-3324-418c-d70e-9dfdaef83588"
      },
      "source": [
        "#Standard deviation\n",
        "finance_df['Respondent Age'].std()"
      ],
      "execution_count": null,
      "outputs": [
        {
          "output_type": "execute_result",
          "data": {
            "text/plain": [
              "16.51980349804178"
            ]
          },
          "metadata": {},
          "execution_count": 151
        }
      ]
    },
    {
      "cell_type": "markdown",
      "metadata": {
        "id": "CmMFsqzs-5St"
      },
      "source": [
        "### Range"
      ]
    },
    {
      "cell_type": "code",
      "metadata": {
        "colab": {
          "base_uri": "https://localhost:8080/"
        },
        "id": "zUa3PX_5cn5d",
        "outputId": "cca21c82-bc17-4521-dfca-bd245bf2fd9b"
      },
      "source": [
        "#Range\n",
        "\n",
        "finance_df['Respondent Age'].max()\n"
      ],
      "execution_count": null,
      "outputs": [
        {
          "output_type": "execute_result",
          "data": {
            "text/plain": [
              "100.0"
            ]
          },
          "metadata": {},
          "execution_count": 144
        }
      ]
    },
    {
      "cell_type": "code",
      "metadata": {
        "colab": {
          "base_uri": "https://localhost:8080/"
        },
        "id": "EbZ_WzQ29fRn",
        "outputId": "a3614dfa-d0da-4f91-8885-4043356d82d8"
      },
      "source": [
        "finance_df['Respondent Age'].min()"
      ],
      "execution_count": null,
      "outputs": [
        {
          "output_type": "execute_result",
          "data": {
            "text/plain": [
              "16.0"
            ]
          },
          "metadata": {},
          "execution_count": 143
        }
      ]
    },
    {
      "cell_type": "markdown",
      "metadata": {
        "id": "UBfySoJi-0H1"
      },
      "source": [
        "### Skewness"
      ]
    },
    {
      "cell_type": "code",
      "metadata": {
        "colab": {
          "base_uri": "https://localhost:8080/"
        },
        "id": "AX1PZfrec7cu",
        "outputId": "397b7ebb-479b-4b7e-fae1-4ba76ff271f9"
      },
      "source": [
        "#Skewness\n",
        "finance_df['Respondent Age'].skew()"
      ],
      "execution_count": null,
      "outputs": [
        {
          "output_type": "execute_result",
          "data": {
            "text/plain": [
              "0.840661747532081"
            ]
          },
          "metadata": {},
          "execution_count": 145
        }
      ]
    },
    {
      "cell_type": "code",
      "metadata": {
        "colab": {
          "base_uri": "https://localhost:8080/",
          "height": 283
        },
        "id": "FxkhgcoeVIzE",
        "outputId": "98199c7c-0b0e-4f0f-848b-84117a193444"
      },
      "source": [
        "#Creating a box plot\n",
        "#The circles in the plot indicate outliers.\n",
        "finance_df.boxplot(column =['Respondent Age'], grid = False) "
      ],
      "execution_count": null,
      "outputs": [
        {
          "output_type": "execute_result",
          "data": {
            "text/plain": [
              "<matplotlib.axes._subplots.AxesSubplot at 0x7fc291636c10>"
            ]
          },
          "metadata": {},
          "execution_count": 147
        },
        {
          "output_type": "display_data",
          "data": {
            "image/png": "[encoded data removed]",
            "text/plain": [
              "<Figure size 432x288 with 1 Axes>"
            ]
          },
          "metadata": {
            "needs_background": "light"
          }
        }
      ]
    },
    {
      "cell_type": "code",
      "metadata": {
        "id": "TEdPlY_rnGI8"
      },
      "source": [
        "#identify outliers using more than one variables\n",
        "df.boxplot(column =['total_bill'], by ='day', grid = False)"
      ],
      "execution_count": null,
      "outputs": []
    },
    {
      "cell_type": "code",
      "metadata": {
        "id": "0mdfBSJ-dQz4"
      },
      "source": [
        "#interquartile range\n",
        "finance_df[''].quantile([0.25,0.5,0.75])"
      ],
      "execution_count": null,
      "outputs": []
    },
    {
      "cell_type": "code",
      "metadata": {
        "id": "xIDZFwTHdoOg"
      },
      "source": [
        "#kurtosis\n",
        "finance_df[''].kurt()"
      ],
      "execution_count": null,
      "outputs": []
    },
    {
      "cell_type": "code",
      "metadata": {
        "id": "tf_uNFkXfyc5"
      },
      "source": [
        "#histogram\n",
        "finance_df[''].hist()\n",
        "df.total_bill.hist()"
      ],
      "execution_count": null,
      "outputs": []
    },
    {
      "cell_type": "code",
      "metadata": {
        "id": "fv31rLw1g631"
      },
      "source": [
        "#Recommendations\n",
        "#Describe the summary\n",
        "finance_df[''].describe()"
      ],
      "execution_count": null,
      "outputs": []
    },
    {
      "cell_type": "markdown",
      "metadata": {
        "id": "V6IKENaBFwyg"
      },
      "source": [
        "### Quantile"
      ]
    },
    {
      "cell_type": "code",
      "metadata": {
        "colab": {
          "base_uri": "https://localhost:8080/"
        },
        "id": "prZAVJMLF30V",
        "outputId": "433991f6-250f-4fe1-c896-78cdf58e4959"
      },
      "source": [
        "#1. Respondent age\n",
        "finance_df['Respondent Age'].quantile([0.25, 0.5, 0.75])"
      ],
      "execution_count": null,
      "outputs": [
        {
          "output_type": "execute_result",
          "data": {
            "text/plain": [
              "0.25    26.0\n",
              "0.50    35.0\n",
              "0.75    49.0\n",
              "Name: Respondent Age, dtype: float64"
            ]
          },
          "metadata": {},
          "execution_count": 163
        }
      ]
    },
    {
      "cell_type": "code",
      "metadata": {
        "colab": {
          "base_uri": "https://localhost:8080/"
        },
        "id": "eznW3_FAGa-K",
        "outputId": "1d11c8cd-db75-4eca-da72-61f03e2eaad2"
      },
      "source": [
        "#2. HOUSEHOLD SIZE \n",
        "finance_df['household_size'].quantile([0.25, 0.5, 0.75])"
      ],
      "execution_count": null,
      "outputs": [
        {
          "output_type": "execute_result",
          "data": {
            "text/plain": [
              "0.25    2.0\n",
              "0.50    3.0\n",
              "0.75    5.0\n",
              "Name: household_size, dtype: float64"
            ]
          },
          "metadata": {},
          "execution_count": 164
        }
      ]
    },
    {
      "cell_type": "markdown",
      "metadata": {
        "id": "3qWx0O-FEo75"
      },
      "source": [
        "### Histogram"
      ]
    },
    {
      "cell_type": "code",
      "metadata": {
        "colab": {
          "base_uri": "https://localhost:8080/",
          "height": 283
        },
        "id": "CNNwL8utFvbv",
        "outputId": "4c543c53-0778-486e-a78a-1d0f87fe9e2f"
      },
      "source": [
        "#1. Histogram of household size\n",
        "finance_df['household_size'].hist()"
      ],
      "execution_count": null,
      "outputs": [
        {
          "output_type": "execute_result",
          "data": {
            "text/plain": [
              "<matplotlib.axes._subplots.AxesSubplot at 0x7fc28a91c450>"
            ]
          },
          "metadata": {},
          "execution_count": 174
        },
        {
          "output_type": "display_data",
          "data": {
            "image/png": "[encoded data removed]",
            "text/plain": [
              "<Figure size 432x288 with 1 Axes>"
            ]
          },
          "metadata": {
            "needs_background": "light"
          }
        }
      ]
    },
    {
      "cell_type": "code",
      "metadata": {
        "colab": {
          "base_uri": "https://localhost:8080/",
          "height": 283
        },
        "id": "Nr7LLqcRNzyf",
        "outputId": "e92c9b07-8bc7-412a-c509-a64845bea2c9"
      },
      "source": [
        "#2. Respondent Age histogram\n",
        "finance_df['Respondent Age'].hist()"
      ],
      "execution_count": null,
      "outputs": [
        {
          "output_type": "execute_result",
          "data": {
            "text/plain": [
              "<matplotlib.axes._subplots.AxesSubplot at 0x7fc28a8984d0>"
            ]
          },
          "metadata": {},
          "execution_count": 175
        },
        {
          "output_type": "display_data",
          "data": {
            "image/png": "[encoded data removed]",
            "text/plain": [
              "<Figure size 432x288 with 1 Axes>"
            ]
          },
          "metadata": {
            "needs_background": "light"
          }
        }
      ]
    },
    {
      "cell_type": "markdown",
      "metadata": {
        "id": "Ub4cexlMEqwN"
      },
      "source": [
        "### Box plot"
      ]
    },
    {
      "cell_type": "code",
      "metadata": {
        "colab": {
          "base_uri": "https://localhost:8080/",
          "height": 285
        },
        "id": "DgG_AbLRHNzs",
        "outputId": "0a237a37-0252-43e7-e85c-6f21890d7bcb"
      },
      "source": [
        "#1. Household size\n",
        "finance_df.boxplot([\"household_size\"])"
      ],
      "execution_count": null,
      "outputs": [
        {
          "output_type": "execute_result",
          "data": {
            "text/plain": [
              "<matplotlib.axes._subplots.AxesSubplot at 0x7fc28a932b50>"
            ]
          },
          "metadata": {},
          "execution_count": 173
        },
        {
          "output_type": "display_data",
          "data": {
            "image/png": "[encoded data removed]",
            "text/plain": [
              "<Figure size 432x288 with 1 Axes>"
            ]
          },
          "metadata": {
            "needs_background": "light"
          }
        }
      ]
    },
    {
      "cell_type": "markdown",
      "metadata": {
        "id": "iXRzyp6QEr9l"
      },
      "source": [
        "### frequency table"
      ]
    },
    {
      "cell_type": "code",
      "metadata": {
        "colab": {
          "base_uri": "https://localhost:8080/"
        },
        "id": "AHYNwLI0OGuY",
        "outputId": "a793024d-cfd6-4072-f7d8-8f6e612bfa63"
      },
      "source": [
        "finance_df.household_size.value_counts()"
      ],
      "execution_count": null,
      "outputs": [
        {
          "output_type": "execute_result",
          "data": {
            "text/plain": [
              "2.0     5132\n",
              "1.0     3967\n",
              "3.0     3535\n",
              "4.0     3211\n",
              "5.0     2727\n",
              "6.0     2031\n",
              "7.0     1383\n",
              "8.0      741\n",
              "9.0      356\n",
              "10.0     192\n",
              "12.0      66\n",
              "11.0      66\n",
              "0.0       36\n",
              "13.0      25\n",
              "15.0      11\n",
              "14.0       9\n",
              "16.0       4\n",
              "18.0       1\n",
              "20.0       1\n",
              "21.0       1\n",
              "17.0       1\n",
              "Name: household_size, dtype: int64"
            ]
          },
          "metadata": {},
          "execution_count": 176
        }
      ]
    },
    {
      "cell_type": "markdown",
      "metadata": {
        "id": "rie8aeK155I8"
      },
      "source": [
        "## 7.2 Bivariate Analysis"
      ]
    },
    {
      "cell_type": "markdown",
      "metadata": {
        "id": "W-qh47jPNgHM"
      },
      "source": [
        "1. scatter plots\n",
        "2. line charts to determine the relationship between variables, describing the relationship between two quantitative variables, computing and interpreting the Pearson correlation coefficient. \n",
        "3. Provide recommendations for effectively performing bivariate analysis while working on the current problem."
      ]
    },
    {
      "cell_type": "code",
      "metadata": {
        "colab": {
          "base_uri": "https://localhost:8080/",
          "height": 389
        },
        "id": "eg3pnXIDnwqM",
        "outputId": "2313cdf4-9e71-46b2-ffbe-caf89beaa910"
      },
      "source": [
        "#scatter plot\n",
        "fig, ax = plt.subplots(figsize=(12,6))\n",
        "ax.scatter(finance_df['household_size'], finance_df['Respondent Age'])\n",
        "ax.set_xlabel('household_size')\n",
        "ax.set_ylabel('Respondent Age')\n",
        "plt.show()\n"
      ],
      "execution_count": null,
      "outputs": [
        {
          "output_type": "display_data",
          "data": {
            "image/png": "[encoded data removed]",
            "text/plain": [
              "<Figure size 864x432 with 1 Axes>"
            ]
          },
          "metadata": {
            "needs_background": "light"
          }
        }
      ]
    },
    {
      "cell_type": "code",
      "metadata": {
        "colab": {
          "base_uri": "https://localhost:8080/",
          "height": 283
        },
        "id": "kU_5jKH2j02o",
        "outputId": "85734584-03ec-4792-e4ed-0f1b35a23d90"
      },
      "source": [
        "#line chart\n",
        "finance_df[['household_size','Respondent Age']].plot()\n",
        "\n"
      ],
      "execution_count": null,
      "outputs": [
        {
          "output_type": "execute_result",
          "data": {
            "text/plain": [
              "<matplotlib.axes._subplots.AxesSubplot at 0x7fc28ab3fd50>"
            ]
          },
          "metadata": {},
          "execution_count": 179
        },
        {
          "output_type": "display_data",
          "data": {
            "image/png": "[encoded data removed]",
            "text/plain": [
              "<Figure size 432x288 with 1 Axes>"
            ]
          },
          "metadata": {
            "needs_background": "light"
          }
        }
      ]
    },
    {
      "cell_type": "code",
      "metadata": {
        "id": "NNjkKJuAj_jf"
      },
      "source": [
        "#Recommendations"
      ],
      "execution_count": null,
      "outputs": []
    },
    {
      "cell_type": "markdown",
      "metadata": {
        "id": "YFFtlKbq7J5V"
      },
      "source": [
        "# 8.0 Factor analysis, principal component analysis, and discriminant analysis."
      ]
    },
    {
      "cell_type": "markdown",
      "metadata": {
        "id": "HN4jdkZx7Sia"
      },
      "source": [
        "## 8.1 Factor analysis"
      ]
    },
    {
      "cell_type": "markdown",
      "metadata": {
        "id": "YwcKCwGy7aPS"
      },
      "source": [
        "## 8.2 Principal component analysis "
      ]
    },
    {
      "cell_type": "markdown",
      "metadata": {
        "id": "jY-Gh52r7o-H"
      },
      "source": [
        "## 8.3 Discriminant analysis"
      ]
    },
    {
      "cell_type": "markdown",
      "metadata": {
        "id": "5qPVpgE6TEd4"
      },
      "source": [
        "# Analysis"
      ]
    },
    {
      "cell_type": "markdown",
      "metadata": {
        "id": "pjdvj_2qOMG0"
      },
      "source": [
        "Multivariate Analysis\n",
        "1. finding relationships between variables using multiple regression analysis \n",
        "2. applying reduction techniques to the analysis. \n",
        "3. provide recommendations for effectively performing univariate analysis.\n",
        "4. recommendations for effectively performing multivariate analysis while working on the current problem."
      ]
    },
    {
      "cell_type": "markdown",
      "metadata": {
        "id": "TKR7jSqZZYCc"
      },
      "source": [
        "### number of people who have access to mobile phones and don't have access to the banks"
      ]
    },
    {
      "cell_type": "code",
      "metadata": {
        "colab": {
          "base_uri": "https://localhost:8080/"
        },
        "id": "2Rov18zbTNLD",
        "outputId": "e2d8c3e4-ac86-4d3e-b56e-cf3a7e1995e5"
      },
      "source": [
        "#To determine the number of people who have access to mobile \n",
        "#phones and don't have access to the banks\n",
        "#\n",
        "B=finance_df.loc[( finance_df['Cell Phone Access']=='Yes')& (finance_df['Has a Bank account']=='No')]\n",
        "B.value_counts('country')\n"
      ],
      "execution_count": null,
      "outputs": [
        {
          "output_type": "execute_result",
          "data": {
            "text/plain": [
              "country\n",
              "Rwanda      6265\n",
              "Tanzania    3337\n",
              "Kenya       3326\n",
              "Uganda      1293\n",
              "dtype: int64"
            ]
          },
          "metadata": {},
          "execution_count": 182
        }
      ]
    },
    {
      "cell_type": "code",
      "metadata": {
        "colab": {
          "base_uri": "https://localhost:8080/",
          "height": 352
        },
        "id": "XyYUAg-pYD_O",
        "outputId": "32e92041-b8ce-4428-f59d-e6d742dc535b"
      },
      "source": [
        "#Correlation between those who have access to mobile phones and don't have access to the banks per country\n",
        "#\n",
        "plt.figure(figsize=(10,5))\n",
        "plt.subplot(1,2,1)\n",
        "sns.countplot(x='country', data=finance_df ,hue='Cell Phone Access' )\n",
        "plt.subplot(1,2,2)\n",
        "sns.countplot(x='country', data=finance_df ,hue='Has a Bank account' )"
      ],
      "execution_count": null,
      "outputs": [
        {
          "output_type": "execute_result",
          "data": {
            "text/plain": [
              "<matplotlib.axes._subplots.AxesSubplot at 0x7fc28a383210>"
            ]
          },
          "metadata": {},
          "execution_count": 193
        },
        {
          "output_type": "display_data",
          "data": {
            "image/png": "[encoded data removed]",
            "text/plain": [
              "<Figure size 720x360 with 2 Axes>"
            ]
          },
          "metadata": {
            "needs_background": "light"
          }
        }
      ]
    },
    {
      "cell_type": "markdown",
      "metadata": {
        "id": "U76mj75eZrMK"
      },
      "source": [
        "### level of access to mobile phones for people per country.\n"
      ]
    },
    {
      "cell_type": "code",
      "metadata": {
        "colab": {
          "base_uri": "https://localhost:8080/"
        },
        "id": "cGKzm6TPVeKZ",
        "outputId": "f3f3a121-8f3a-4024-c9e2-9a3f414c26e5"
      },
      "source": [
        "#To determine access to mobile phones for people in the region per country .\n",
        "#\n",
        "HHH=finance_df.loc[(finance_df['Cell Phone Access']=='Yes')] \n",
        "HHH.value_counts('country')"
      ],
      "execution_count": null,
      "outputs": [
        {
          "output_type": "execute_result",
          "data": {
            "text/plain": [
              "country\n",
              "Rwanda      7249\n",
              "Kenya       4785\n",
              "Tanzania    3945\n",
              "Uganda      1464\n",
              "dtype: int64"
            ]
          },
          "metadata": {},
          "execution_count": 188
        }
      ]
    },
    {
      "cell_type": "code",
      "metadata": {
        "colab": {
          "base_uri": "https://localhost:8080/",
          "height": 297
        },
        "id": "jfFx2CL6bqzY",
        "outputId": "18984021-7c9b-401b-8829-badc3067fb69"
      },
      "source": [
        "#Determination of the number of people who have access to mobile phones per country .\n",
        "#\n",
        "sns.countplot(x='country', data=finance_df ,hue='Cell Phone Access' )"
      ],
      "execution_count": null,
      "outputs": [
        {
          "output_type": "execute_result",
          "data": {
            "text/plain": [
              "<matplotlib.axes._subplots.AxesSubplot at 0x7fc28a260e90>"
            ]
          },
          "metadata": {},
          "execution_count": 195
        },
        {
          "output_type": "display_data",
          "data": {
            "image/png": "[encoded data removed]",
            "text/plain": [
              "<Figure size 432x288 with 1 Axes>"
            ]
          },
          "metadata": {
            "needs_background": "light"
          }
        }
      ]
    },
    {
      "cell_type": "markdown",
      "metadata": {
        "id": "BccVDcevZ_Js"
      },
      "source": [
        "### level of access to mobile phones for people in urban areas and rural"
      ]
    },
    {
      "cell_type": "code",
      "metadata": {
        "colab": {
          "base_uri": "https://localhost:8080/"
        },
        "id": "amVrZW3uU9R5",
        "outputId": "643f8de9-affb-44f2-b090-5daba5d76217"
      },
      "source": [
        "#To determine the percentage of level of access to mobile phones for people in urban areas and rural areas\n",
        "#\n",
        "MM=finance_df.loc[(finance_df['Cell Phone Access']=='Yes')] \n",
        "MM.value_counts('Type of Location', normalize=True)"
      ],
      "execution_count": null,
      "outputs": [
        {
          "output_type": "execute_result",
          "data": {
            "text/plain": [
              "Type of Location\n",
              "Rural    0.634243\n",
              "Urban    0.365757\n",
              "dtype: float64"
            ]
          },
          "metadata": {},
          "execution_count": 186
        }
      ]
    },
    {
      "cell_type": "code",
      "metadata": {
        "colab": {
          "base_uri": "https://localhost:8080/",
          "height": 297
        },
        "id": "YwM9z88dcNRR",
        "outputId": "14e8f685-db5b-47fa-d4d6-4e89ee21f92c"
      },
      "source": [
        "#Correlation of the level of access to mobile phones for people in urban areas and rural areas.\n",
        "#\n",
        "sns.countplot(x='Type of Location', data=finance_df ,hue='Cell Phone Access' )"
      ],
      "execution_count": null,
      "outputs": [
        {
          "output_type": "execute_result",
          "data": {
            "text/plain": [
              "<matplotlib.axes._subplots.AxesSubplot at 0x7fc28ab33190>"
            ]
          },
          "metadata": {},
          "execution_count": 198
        },
        {
          "output_type": "display_data",
          "data": {
            "image/png": "[encoded data removed]",
            "text/plain": [
              "<Figure size 432x288 with 1 Axes>"
            ]
          },
          "metadata": {
            "needs_background": "light"
          }
        }
      ]
    },
    {
      "cell_type": "markdown",
      "metadata": {
        "id": "q6C5O8WUacCf"
      },
      "source": [
        "### age has the most access to mobile phones.\n"
      ]
    },
    {
      "cell_type": "code",
      "metadata": {
        "colab": {
          "base_uri": "https://localhost:8080/"
        },
        "id": "aLcyaI5aV6B1",
        "outputId": "c0cc7aec-195e-4993-8164-070cd8c8b1a9"
      },
      "source": [
        "#To determine which age has the most access to mobile phones.\n",
        "#\n",
        "age=finance_df.loc[(finance_df['Cell Phone Access']=='Yes')]\n",
        "ag=age.value_counts('Respondent Age')\n",
        "ag.head(1)"
      ],
      "execution_count": null,
      "outputs": [
        {
          "output_type": "execute_result",
          "data": {
            "text/plain": [
              "Respondent Age\n",
              "30.0    819\n",
              "dtype: int64"
            ]
          },
          "metadata": {},
          "execution_count": 189
        }
      ]
    },
    {
      "cell_type": "code",
      "metadata": {
        "colab": {
          "base_uri": "https://localhost:8080/",
          "height": 294
        },
        "id": "7pCbaSDMWROc",
        "outputId": "cea19b34-c455-4840-ec01-50193770483b"
      },
      "source": [
        "#correlations between mobile access and ages of the respondents.\n",
        "#\n",
        "plt.figure(figsize=(23,7))\n",
        "sns.countplot(x='Respondent Age', data=finance_df ,hue='Cell Phone Access' )"
      ],
      "execution_count": null,
      "outputs": [
        {
          "output_type": "execute_result",
          "data": {
            "text/plain": [
              "<matplotlib.axes._subplots.AxesSubplot at 0x7fc28ab99c90>"
            ]
          },
          "metadata": {},
          "execution_count": 191
        },
        {
          "output_type": "display_data",
          "data": {
            "image/png": "[encoded data removed]",
            "text/plain": [
              "<Figure size 1656x504 with 1 Axes>"
            ]
          },
          "metadata": {
            "needs_background": "light"
          }
        }
      ]
    },
    {
      "cell_type": "markdown",
      "metadata": {
        "id": "AdT6d180ajFD"
      },
      "source": [
        "### employment type and location type"
      ]
    },
    {
      "cell_type": "code",
      "metadata": {
        "colab": {
          "base_uri": "https://localhost:8080/",
          "height": 625
        },
        "id": "dvda-EBnev4A",
        "outputId": "b31abd6f-dde2-4556-b5cb-2a50da692607"
      },
      "source": [
        "#Determine the employment type and location type, this will determine the areas of interest for analysis. \n",
        "#\n",
        "plt.figure(figsize=(12,10))\n",
        "sns.countplot(x='Type of Location', data=finance_df ,hue='Type of Job' )"
      ],
      "execution_count": null,
      "outputs": [
        {
          "output_type": "execute_result",
          "data": {
            "text/plain": [
              "<matplotlib.axes._subplots.AxesSubplot at 0x7fc28a36c190>"
            ]
          },
          "metadata": {},
          "execution_count": 199
        },
        {
          "output_type": "display_data",
          "data": {
            "image/png": "[encoded data removed]",
            "text/plain": [
              "<Figure size 864x720 with 1 Axes>"
            ]
          },
          "metadata": {
            "needs_background": "light"
          }
        }
      ]
    },
    {
      "cell_type": "markdown",
      "metadata": {
        "id": "bbYx3YUEgUBG"
      },
      "source": [
        "### the employment type and bank account access"
      ]
    },
    {
      "cell_type": "code",
      "metadata": {
        "colab": {
          "base_uri": "https://localhost:8080/",
          "height": 625
        },
        "id": "NY5MAF8Bfv89",
        "outputId": "55e6cd64-26a4-4c4a-c921-a5a5fa6492e3"
      },
      "source": [
        "#Identification of the employment type and bank account access, this will determine the areas of interest for analysis. \n",
        "#\n",
        "plt.figure(figsize=(12,10))\n",
        "sns.countplot(x='Has a Bank account', data=finance_df ,hue='Type of Job' )"
      ],
      "execution_count": null,
      "outputs": [
        {
          "output_type": "execute_result",
          "data": {
            "text/plain": [
              "<matplotlib.axes._subplots.AxesSubplot at 0x7fc28abf5e10>"
            ]
          },
          "metadata": {},
          "execution_count": 201
        },
        {
          "output_type": "display_data",
          "data": {
            "image/png": "[encoded data removed]",
            "text/plain": [
              "<Figure size 864x720 with 1 Axes>"
            ]
          },
          "metadata": {
            "needs_background": "light"
          }
        }
      ]
    },
    {
      "cell_type": "markdown",
      "metadata": {
        "id": "_E6HN-deYwHX"
      },
      "source": [
        "##RECOMMENDATIONS"
      ]
    },
    {
      "cell_type": "markdown",
      "metadata": {
        "id": "lfUxHMT5Y5A2"
      },
      "source": [
        "From the analysis:\n",
        "1. The fintech companies should target people in the age group of 18 to 40 as the market for their products.\n",
        "\n",
        "2. fintech companies should focus more on rural areas because there is a bigger market that has not been tapped.\n",
        "\n",
        "3. people who have access to mobile phones and don't have access to the banks\n",
        "\n",
        "4. Uganda has the least access to mobile phones.Therefore should be targeted.\n",
        "\n",
        "5. Most people with no income have no bank accounts.They should be targeted.\n",
        "\n",
        "Prioritizing the recommendations above would not only increase the return on investment but ensure financial inclusivity across the East African region."
      ]
    }
  ]
}